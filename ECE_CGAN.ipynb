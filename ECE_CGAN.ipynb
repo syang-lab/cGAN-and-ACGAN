{
 "cells": [
  {
   "cell_type": "code",
   "execution_count": 2,
   "metadata": {
    "colab": {
     "base_uri": "https://localhost:8080/"
    },
    "id": "rkMmXEu7NZ2C",
    "outputId": "bd6cb8e0-211e-4da7-8d59-d90bfe68e514"
   },
   "outputs": [
    {
     "name": "stdout",
     "output_type": "stream",
     "text": [
      "Mounted at /content/drive\n"
     ]
    }
   ],
   "source": [
    "from google.colab import drive\n",
    "drive.mount('/content/drive')"
   ]
  },
  {
   "cell_type": "code",
   "execution_count": 3,
   "metadata": {
    "colab": {
     "base_uri": "https://localhost:8080/"
    },
    "id": "g-zNIye4Q8Iq",
    "outputId": "5dbef022-06a0-4ea5-96f8-64db38e54d07"
   },
   "outputs": [
    {
     "name": "stdout",
     "output_type": "stream",
     "text": [
      "Collecting pytorch-msssim\n",
      "  Downloading pytorch_msssim-0.2.1-py3-none-any.whl (7.2 kB)\n",
      "Requirement already satisfied: torch in /usr/local/lib/python3.7/dist-packages (from pytorch-msssim) (1.10.0+cu111)\n",
      "Requirement already satisfied: typing-extensions in /usr/local/lib/python3.7/dist-packages (from torch->pytorch-msssim) (3.10.0.2)\n",
      "Installing collected packages: pytorch-msssim\n",
      "Successfully installed pytorch-msssim-0.2.1\n"
     ]
    }
   ],
   "source": [
    "!pip install pytorch-msssim"
   ]
  },
  {
   "cell_type": "code",
   "execution_count": 4,
   "metadata": {
    "id": "18vVlFpTQ8MU"
   },
   "outputs": [],
   "source": [
    "import torch\n",
    "import torch.nn as nn\n",
    "import torch.optim as optim\n",
    "import torchvision\n",
    "import torchvision.transforms as transforms\n",
    "import torch.nn as nn\n",
    "import torch.nn.functional as F\n",
    "from torch.autograd import Variable\n",
    "from torchvision.utils import save_image\n",
    "from torchvision.utils import make_grid\n",
    "import matplotlib.pyplot as plt\n",
    "import torchvision.utils as vutils"
   ]
  },
  {
   "cell_type": "code",
   "execution_count": 5,
   "metadata": {
    "id": "sUcohHkBQ8kI"
   },
   "outputs": [],
   "source": [
    "from math import floor\n",
    "import numpy as np\n",
    "from pytorch_msssim import ms_ssim\n",
    "from torchvision.models.inception import inception_v3\n",
    "device = 'cuda' if torch.cuda.is_available() else 'cpu'"
   ]
  },
  {
   "cell_type": "code",
   "execution_count": 6,
   "metadata": {
    "colab": {
     "base_uri": "https://localhost:8080/",
     "height": 65,
     "referenced_widgets": [
      "dade4f0ac3f14a6895102976278d815b",
      "9233b5f2d3234de6849182ccbab030d9",
      "b01c1a0b40124f85aabb59eb5d509b4f",
      "63a2dff9dbfa46d29b8a1c71cb83311d",
      "9b33a6ce6c79412bb6e9b6b8ca4e517d",
      "0c0cddd6ca4a48fb88f1aadd782102b0",
      "c822dc3636614bc091ef6e94fe73016a",
      "79a47dc9f496485ea4f308dc4b5065d1",
      "f667d50ddd6846878fdb4803a8693c8f",
      "ff660f96043742ff97a0d461c697da32",
      "48d1f67829e84b0984d37d9ceaebd87a"
     ]
    },
    "id": "LZ_MRdNmb9C2",
    "outputId": "1918beb4-d241-4cd9-e3d8-2479349b08a6"
   },
   "outputs": [
    {
     "name": "stderr",
     "output_type": "stream",
     "text": [
      "Downloading: \"https://download.pytorch.org/models/inception_v3_google-0cc3c7bd.pth\" to /root/.cache/torch/hub/checkpoints/inception_v3_google-0cc3c7bd.pth\n"
     ]
    },
    {
     "data": {
      "application/vnd.jupyter.widget-view+json": {
       "model_id": "dade4f0ac3f14a6895102976278d815b",
       "version_major": 2,
       "version_minor": 0
      },
      "text/plain": [
       "  0%|          | 0.00/104M [00:00<?, ?B/s]"
      ]
     },
     "metadata": {},
     "output_type": "display_data"
    }
   ],
   "source": [
    "inception_model = inception_v3(pretrained=True, transform_input=False)"
   ]
  },
  {
   "cell_type": "code",
   "execution_count": 7,
   "metadata": {
    "id": "UA9nh6_qb_o8"
   },
   "outputs": [],
   "source": [
    "def calculate_inception_score(images,inception_model,n_split=10, eps=1E-16):\n",
    "  inception_model.eval()\n",
    "  up = nn.Upsample(size=(299,299), mode='bilinear',align_corners=False)\n",
    "  images = up(images)\n",
    "  yhat = F.softmax(inception_model(images))\n",
    "  scores = list()\n",
    "  n_part = floor(images.shape[0]/n_split)\n",
    "  for i in range(n_split):\n",
    "    ix_start, ix_end = i * n_part, i * n_part + n_part\n",
    "    p_yx = yhat[ix_start:ix_end]\n",
    "    p_y = p_yx.mean(dim=0).unsqueeze(0)\n",
    "    kl_d = p_yx * (p_yx.log() - p_y.log())\n",
    "    sum_kl_d = kl_d.sum(dim=1)\n",
    "    avg_kl_d = sum_kl_d.mean()\n",
    "    score = avg_kl_d.exp()\n",
    "    scores.append(score.item())\n",
    "  avg = np.mean(scores)\n",
    "  std = np.std(scores)\n",
    "  return avg, std"
   ]
  },
  {
   "cell_type": "code",
   "execution_count": 8,
   "metadata": {
    "id": "W9onwDvncCvz"
   },
   "outputs": [],
   "source": [
    "def generate_images_calculate_IS(gen_model, target, nz, inception_model,total_number_of_images = 256):\n",
    "  gen_model.to('cpu')\n",
    "  \n",
    "  class_target = torch.ones(total_number_of_images)*target\n",
    "\n",
    "  with torch.no_grad():\n",
    "      latent_z = torch.randn(total_number_of_images, nz)\n",
    "      fake_img = gen_model(latent_z, class_target.int())\n",
    "\n",
    "  avg, std = calculate_inception_score(fake_img,inception_model)\n",
    "  print('IS avg {:.4f}, IS std {:.4f}'.format(avg, std))\n",
    "\n",
    "  npimg = make_grid(fake_img, padding=0, nrow=16)\n",
    "  fig, axes = plt.subplots(1,1, figsize=(10,10))\n",
    "  axes.imshow(np.transpose(npimg, (1,2,0)), interpolation='nearest')\n",
    "  fig.show()\n",
    "  \n",
    "  return fake_img"
   ]
  },
  {
   "cell_type": "code",
   "execution_count": 9,
   "metadata": {
    "id": "PhQF1wB5cD0a"
   },
   "outputs": [],
   "source": [
    "def cal_ms_ssim(img_real,img_fake):\n",
    "  up = nn.Upsample(size=(299,299), mode='bilinear',align_corners=False)\n",
    "  img_real =up(img_real.type(torch.DoubleTensor))\n",
    "  img_fake =up(img_fake.type(torch.DoubleTensor))\n",
    "\n",
    "  ms_ssim_score = ms_ssim(img_fake,img_real,data_range=1,size_average=True)\n",
    "  print('MS_SSIM avg {:.4f}'.format(ms_ssim_score))\n",
    "  return ms_ssim_score"
   ]
  },
  {
   "cell_type": "code",
   "execution_count": 10,
   "metadata": {
    "id": "wA83_vqtQ2q0"
   },
   "outputs": [],
   "source": [
    "class cGenerator(nn.Module):\n",
    "  def __init__(self, nz):\n",
    "    super(cGenerator, self).__init__()\n",
    "    self.emb = nn.Embedding(10, 10)\n",
    "    self.nz=nz\n",
    "    \n",
    "    self.model = nn.Sequential(\n",
    "      nn.Linear(self.nz+10, 128),\n",
    "\t\t\tnn.BatchNorm1d(128, 0.8),\n",
    "      nn.LeakyReLU(0.2, inplace=True),\n",
    "\n",
    "      nn.Linear(128, 256),\n",
    "\t\t\tnn.BatchNorm1d(256, 0.8),\n",
    "      nn.LeakyReLU(0.2, inplace=True),\n",
    "\n",
    "      nn.Linear(256, 512),\n",
    "\t\t\tnn.BatchNorm1d(512, 0.8),\n",
    "      nn.LeakyReLU(0.2, inplace=True),\n",
    "\n",
    "      nn.Linear(512, 1024),\n",
    "\t\t\tnn.BatchNorm1d(1024, 0.8),\n",
    "      nn.LeakyReLU(0.2, inplace=True),\n",
    "\n",
    "      nn.Linear(1024, 3*32*32),\n",
    "      nn.Tanh(),\n",
    "\t\t\t)\n",
    "    \n",
    "  def forward(self, nz, class_target):\n",
    "   input = torch.cat((self.emb(class_target), nz), -1)\n",
    "   img = self.model(input)\n",
    "   img = img.view(img.size(0), 3, 32, 32)\n",
    "   return img"
   ]
  },
  {
   "cell_type": "code",
   "execution_count": 11,
   "metadata": {
    "id": "_W6ZX3U6Nfjs"
   },
   "outputs": [],
   "source": [
    "class cDiscriminator(nn.Module):\n",
    "  def __init__(self,nclass,img_size=32):\n",
    "    super(cDiscriminator, self).__init__()\n",
    "    self.emb = nn.Embedding(10, 10)\n",
    "    self.nclass = nclass\n",
    "    self.img_size = img_size\n",
    "    \n",
    "    self.model = nn.Sequential(\n",
    "        nn.Linear(3082, 512),\n",
    "        nn.Dropout(0.4),\n",
    "        nn.LeakyReLU(0.2, inplace=True),\n",
    "\n",
    "        nn.Linear(512, 512),\n",
    "        nn.Dropout(0.4),\n",
    "        nn.LeakyReLU(0.2, inplace=True),\n",
    "\n",
    "        nn.Linear(512, 512),\n",
    "        nn.Dropout(0.4),\n",
    "        nn.LeakyReLU(0.2, inplace=True),\n",
    "      \n",
    "\t\t\t  nn.Linear(512, 1),\n",
    "\t\t\t  nn.Sigmoid()\n",
    "     )\n",
    "    \n",
    "  def forward(self, img, class_target):\n",
    "    img = img.view(img.size(0),-1)\n",
    "    input = torch.cat((img, self.emb(class_target)), -1)\n",
    "\n",
    "    fc_isreal = self.model(input)\n",
    "    return fc_isreal "
   ]
  },
  {
   "cell_type": "code",
   "execution_count": 12,
   "metadata": {
    "colab": {
     "base_uri": "https://localhost:8080/",
     "height": 82,
     "referenced_widgets": [
      "b2f12e5389de4503a619b866c5335262",
      "187532ed161741f091aefd4ccd4360f4",
      "d9f987744a0b4e2280e4c1310868e1c6",
      "23cbdf707aae40df8601aa1dc5061a95",
      "c351fab186d040c6a79bc44f838b22de",
      "8ee12dd19647473b8c3e58fc714dc1d5",
      "194b2f8156fe40a4af5f08874adc2754",
      "523649f530514bf2bb64661c20069314",
      "acaea1d2db694661931f75b41c278dfd",
      "d1e8b8e6076f4905ae88b5064ce26931",
      "b9fbf234c50843979d4116864ed4e67a"
     ]
    },
    "id": "hFFBPW0LQtNC",
    "outputId": "03bc1d24-4956-4dcb-8cdd-d4a34fac7947"
   },
   "outputs": [
    {
     "name": "stdout",
     "output_type": "stream",
     "text": [
      "Downloading https://www.cs.toronto.edu/~kriz/cifar-10-python.tar.gz to ./data/cifar-10-python.tar.gz\n"
     ]
    },
    {
     "data": {
      "application/vnd.jupyter.widget-view+json": {
       "model_id": "b2f12e5389de4503a619b866c5335262",
       "version_major": 2,
       "version_minor": 0
      },
      "text/plain": [
       "  0%|          | 0/170498071 [00:00<?, ?it/s]"
      ]
     },
     "metadata": {},
     "output_type": "display_data"
    },
    {
     "name": "stdout",
     "output_type": "stream",
     "text": [
      "Extracting ./data/cifar-10-python.tar.gz to ./data\n"
     ]
    }
   ],
   "source": [
    "nz=100\n",
    "nclass=10\n",
    "\n",
    "lr=0.0001\n",
    "iterations=50\n",
    "\n",
    "transform = transforms.Compose([transforms.ToTensor(),transforms.Normalize((0.5, 0.5, 0.5), (0.5, 0.5, 0.5))])\n",
    "\n",
    "batch_size = 100\n",
    "trainset = torchvision.datasets.CIFAR10(root='./data', download=True, transform=transform)\n",
    "trainloader = torch.utils.data.DataLoader(trainset, batch_size=batch_size, shuffle=True)"
   ]
  },
  {
   "cell_type": "code",
   "execution_count": 13,
   "metadata": {
    "id": "PId7kR3ZYjyQ"
   },
   "outputs": [],
   "source": [
    "def initialize_weights(m):\n",
    "  if isinstance(m, nn.Linear):\n",
    "    nn.init.xavier_uniform_(m.weight)\n",
    "    nn.init.constant_(m.bias.data, 0.01)"
   ]
  },
  {
   "cell_type": "code",
   "execution_count": 14,
   "metadata": {
    "id": "xhWJAnrTSARL"
   },
   "outputs": [],
   "source": [
    "dis_model = cDiscriminator(nclass,img_size=32).apply(initialize_weights).to(device)\n",
    "gen_model = cGenerator(nz).to(device)\n",
    "\n",
    "label_loss=nn.BCELoss()\n",
    "\n",
    "optD = optim.Adam(dis_model.parameters(), lr=lr)\n",
    "optG = optim.Adam(gen_model.parameters(), lr=lr)"
   ]
  },
  {
   "cell_type": "code",
   "execution_count": 15,
   "metadata": {
    "id": "GVFOq33xSuij"
   },
   "outputs": [],
   "source": [
    "def training(iterations, dataloader, dis_model, gen_model, optD, optG, label_loss, nz, device):\n",
    "    eval_z = torch.normal(0, 1, size=(32,nz))\n",
    "    eval_z =eval_z.to(device)\n",
    "    eval_label = torch.randint(0, 10, (32,)).to(device)\n",
    "\n",
    "    for epoch in range(iterations):\n",
    "        total_dis_loss=0\n",
    "        total_gen_loss=0\n",
    "\n",
    "        for img, class_target in dataloader:\n",
    "            img = img.to(device)\n",
    "            class_target = class_target.to(device)\n",
    "\n",
    "            #train the discriminator\n",
    "            optD.zero_grad()\n",
    "\n",
    "            #real data is 1 and fake data is 0\n",
    "            img_real_label = Variable(torch.ones(img.size()[0],1).to(device))\n",
    "            img_fake_label = Variable(torch.zeros(img.size()[0],1).to(device))\n",
    "\n",
    "            img_label_pred = dis_model(img, class_target)\n",
    "\n",
    "            loss_label_real= label_loss(img_label_pred, img_real_label)\n",
    "            loss_label_real.backward()\n",
    "            optD.step()\n",
    "            \n",
    "            latent_z = torch.randn(img.size()[0],nz).to(device)\n",
    "            class_target_fake =torch.randint(0,10, (img.size()[0],)).to(device)\n",
    "\n",
    "            fake_img = gen_model(latent_z, class_target_fake)\n",
    "            fake_img_label_pred=dis_model(fake_img.detach(), class_target_fake)\n",
    "\n",
    "            loss_label_fake = label_loss(fake_img_label_pred, img_fake_label)\n",
    "            loss_label_fake.backward()\n",
    "            optD.step()\n",
    "\n",
    "            loss_dis = (loss_label_fake+loss_label_real)/2\n",
    " \n",
    " \n",
    "            #train the generator\n",
    "            gen_model.zero_grad()\n",
    "            fake_img_label = dis_model(fake_img, class_target)\n",
    "            loss_label_gen = label_loss(fake_img_label, img_real_label)\n",
    "            loss_label_gen.backward()\n",
    "            optG.step()\n",
    "\n",
    "            total_dis_loss+=loss_dis.item()\n",
    "            total_gen_loss+=loss_label_real.item()\n",
    "\n",
    "        print('Epoch {} Discriminator loss {:.2f} and Generator loss {:.2f}'.format(epoch, total_dis_loss/len(dataloader),total_gen_loss/len(dataloader)))\n",
    "        with torch.no_grad():\n",
    "          eval_img = gen_model(eval_z, eval_label)\n",
    "          vutils.save_image(eval_img.data, \"c_eval_images_{}.png\".format(epoch))\n",
    "\n",
    "        torch.save(gen_model.state_dict(), '/content/cGen_epoch_best.pth')\n",
    "        torch.save(dis_model.state_dict(), '/content/cDis_epoch_best.pth')"
   ]
  },
  {
   "cell_type": "code",
   "execution_count": 16,
   "metadata": {
    "colab": {
     "base_uri": "https://localhost:8080/"
    },
    "id": "Yyb2-TgdT6Iv",
    "outputId": "28fc0297-6fc6-4b41-d417-dc98553b617f"
   },
   "outputs": [
    {
     "name": "stdout",
     "output_type": "stream",
     "text": [
      "Epoch 0 Discriminator loss 0.08 and Generator loss 0.03\n",
      "Epoch 1 Discriminator loss 0.10 and Generator loss 0.06\n",
      "Epoch 2 Discriminator loss 0.12 and Generator loss 0.08\n",
      "Epoch 3 Discriminator loss 0.14 and Generator loss 0.09\n",
      "Epoch 4 Discriminator loss 0.15 and Generator loss 0.11\n",
      "Epoch 5 Discriminator loss 0.16 and Generator loss 0.11\n",
      "Epoch 6 Discriminator loss 0.20 and Generator loss 0.13\n",
      "Epoch 7 Discriminator loss 0.23 and Generator loss 0.15\n",
      "Epoch 8 Discriminator loss 0.25 and Generator loss 0.17\n",
      "Epoch 9 Discriminator loss 0.28 and Generator loss 0.18\n",
      "Epoch 10 Discriminator loss 0.28 and Generator loss 0.19\n",
      "Epoch 11 Discriminator loss 0.32 and Generator loss 0.21\n",
      "Epoch 12 Discriminator loss 0.32 and Generator loss 0.21\n",
      "Epoch 13 Discriminator loss 0.36 and Generator loss 0.23\n",
      "Epoch 14 Discriminator loss 0.36 and Generator loss 0.23\n",
      "Epoch 15 Discriminator loss 0.39 and Generator loss 0.24\n",
      "Epoch 16 Discriminator loss 0.40 and Generator loss 0.25\n",
      "Epoch 17 Discriminator loss 0.41 and Generator loss 0.26\n",
      "Epoch 18 Discriminator loss 0.42 and Generator loss 0.26\n",
      "Epoch 19 Discriminator loss 0.42 and Generator loss 0.25\n",
      "Epoch 20 Discriminator loss 0.44 and Generator loss 0.27\n",
      "Epoch 21 Discriminator loss 0.46 and Generator loss 0.28\n",
      "Epoch 22 Discriminator loss 0.47 and Generator loss 0.28\n",
      "Epoch 23 Discriminator loss 0.48 and Generator loss 0.29\n",
      "Epoch 24 Discriminator loss 0.47 and Generator loss 0.28\n",
      "Epoch 25 Discriminator loss 0.48 and Generator loss 0.29\n",
      "Epoch 26 Discriminator loss 0.49 and Generator loss 0.29\n",
      "Epoch 27 Discriminator loss 0.50 and Generator loss 0.30\n",
      "Epoch 28 Discriminator loss 0.51 and Generator loss 0.30\n",
      "Epoch 29 Discriminator loss 0.50 and Generator loss 0.29\n",
      "Epoch 30 Discriminator loss 0.50 and Generator loss 0.29\n",
      "Epoch 31 Discriminator loss 0.51 and Generator loss 0.30\n",
      "Epoch 32 Discriminator loss 0.51 and Generator loss 0.30\n",
      "Epoch 33 Discriminator loss 0.51 and Generator loss 0.30\n",
      "Epoch 34 Discriminator loss 0.50 and Generator loss 0.29\n",
      "Epoch 35 Discriminator loss 0.50 and Generator loss 0.30\n",
      "Epoch 36 Discriminator loss 0.49 and Generator loss 0.29\n",
      "Epoch 37 Discriminator loss 0.49 and Generator loss 0.29\n",
      "Epoch 38 Discriminator loss 0.49 and Generator loss 0.29\n",
      "Epoch 39 Discriminator loss 0.50 and Generator loss 0.29\n",
      "Epoch 40 Discriminator loss 0.49 and Generator loss 0.29\n",
      "Epoch 41 Discriminator loss 0.48 and Generator loss 0.28\n",
      "Epoch 42 Discriminator loss 0.48 and Generator loss 0.28\n",
      "Epoch 43 Discriminator loss 0.48 and Generator loss 0.28\n",
      "Epoch 44 Discriminator loss 0.47 and Generator loss 0.28\n",
      "Epoch 45 Discriminator loss 0.48 and Generator loss 0.28\n",
      "Epoch 46 Discriminator loss 0.47 and Generator loss 0.27\n",
      "Epoch 47 Discriminator loss 0.46 and Generator loss 0.27\n",
      "Epoch 48 Discriminator loss 0.46 and Generator loss 0.27\n",
      "Epoch 49 Discriminator loss 0.46 and Generator loss 0.27\n"
     ]
    }
   ],
   "source": [
    "training(iterations, trainloader, dis_model, gen_model, optD, optG, label_loss, nz, device)"
   ]
  },
  {
   "cell_type": "code",
   "execution_count": 45,
   "metadata": {
    "colab": {
     "base_uri": "https://localhost:8080/",
     "height": 271
    },
    "id": "dknpFKu_YD9_",
    "outputId": "f355b927-132d-4abf-d836-03f4c0a269e5"
   },
   "outputs": [
    {
     "name": "stderr",
     "output_type": "stream",
     "text": [
      "/usr/local/lib/python3.7/dist-packages/ipykernel_launcher.py:5: UserWarning: Implicit dimension choice for softmax has been deprecated. Change the call to include dim=X as an argument.\n",
      "  \"\"\"\n",
      "Clipping input data to the valid range for imshow with RGB data ([0..1] for floats or [0..255] for integers).\n"
     ]
    },
    {
     "name": "stdout",
     "output_type": "stream",
     "text": [
      "IS avg 1.4796, IS std 0.1522\n",
      "MS_SSIM avg 0.0242\n"
     ]
    },
    {
     "data": {
      "image/png": "[encoded data removed]",
      "text/plain": [
       "<Figure size 720x720 with 1 Axes>"
      ]
     },
     "metadata": {
      "needs_background": "light"
     },
     "output_type": "display_data"
    }
   ],
   "source": [
    "target=0\n",
    "total_number_of_images = 64\n",
    "\n",
    "cGen = cGenerator(nz)\n",
    "cGen.load_state_dict(torch.load('/content/cGen_epoch_50.pth'))\n",
    "\n",
    "#select a batch of target\n",
    "label = np.asarray(trainset.targets)\n",
    "img=np.asarray(trainset.data/255)\n",
    "img_real=img[label==target][0:total_number_of_images]\n",
    "img_real=torch.tensor(img_real).permute(0,3,2,1)\n",
    "\n",
    "\n",
    "img_fake=generate_images_calculate_IS(cGen, target, nz, inception_model, total_number_of_images)\n",
    "vutils.save_image(img_fake.data, \"./c_images_fake_group_{}.png\".format(target))\n",
    "ms_ssim_score = cal_ms_ssim(img_real, img_fake)"
   ]
  }
 ],
 "metadata": {
  "accelerator": "GPU",
  "colab": {
   "name": "ECE_CGAN.ipynb",
   "provenance": []
  },
  "kernelspec": {
   "display_name": "Python 3",
   "language": "python",
   "name": "python3"
  },
  "language_info": {
   "codemirror_mode": {
    "name": "ipython",
    "version": 3
   },
   "file_extension": ".py",
   "mimetype": "text/x-python",
   "name": "python",
   "nbconvert_exporter": "python",
   "pygments_lexer": "ipython3",
   "version": "3.7.6"
  },
  "widgets": {
   "application/vnd.jupyter.widget-state+json": {
    "0c0cddd6ca4a48fb88f1aadd782102b0": {
     "model_module": "@jupyter-widgets/controls",
     "model_module_version": "1.5.0",
     "model_name": "DescriptionStyleModel",
     "state": {
      "_model_module": "@jupyter-widgets/controls",
      "_model_module_version": "1.5.0",
      "_model_name": "DescriptionStyleModel",
      "_view_count": null,
      "_view_module": "@jupyter-widgets/base",
      "_view_module_version": "1.2.0",
      "_view_name": "StyleView",
      "description_width": ""
     }
    },
    "187532ed161741f091aefd4ccd4360f4": {
     "model_module": "@jupyter-widgets/base",
     "model_module_version": "1.2.0",
     "model_name": "LayoutModel",
     "state": {
      "_model_module": "@jupyter-widgets/base",
      "_model_module_version": "1.2.0",
      "_model_name": "LayoutModel",
      "_view_count": null,
      "_view_module": "@jupyter-widgets/base",
      "_view_module_version": "1.2.0",
      "_view_name": "LayoutView",
      "align_content": null,
      "align_items": null,
      "align_self": null,
      "border": null,
      "bottom": null,
      "display": null,
      "flex": null,
      "flex_flow": null,
      "grid_area": null,
      "grid_auto_columns": null,
      "grid_auto_flow": null,
      "grid_auto_rows": null,
      "grid_column": null,
      "grid_gap": null,
      "grid_row": null,
      "grid_template_areas": null,
      "grid_template_columns": null,
      "grid_template_rows": null,
      "height": null,
      "justify_content": null,
      "justify_items": null,
      "left": null,
      "margin": null,
      "max_height": null,
      "max_width": null,
      "min_height": null,
      "min_width": null,
      "object_fit": null,
      "object_position": null,
      "order": null,
      "overflow": null,
      "overflow_x": null,
      "overflow_y": null,
      "padding": null,
      "right": null,
      "top": null,
      "visibility": null,
      "width": null
     }
    },
    "194b2f8156fe40a4af5f08874adc2754": {
     "model_module": "@jupyter-widgets/base",
     "model_module_version": "1.2.0",
     "model_name": "LayoutModel",
     "state": {
      "_model_module": "@jupyter-widgets/base",
      "_model_module_version": "1.2.0",
      "_model_name": "LayoutModel",
      "_view_count": null,
      "_view_module": "@jupyter-widgets/base",
      "_view_module_version": "1.2.0",
      "_view_name": "LayoutView",
      "align_content": null,
      "align_items": null,
      "align_self": null,
      "border": null,
      "bottom": null,
      "display": null,
      "flex": null,
      "flex_flow": null,
      "grid_area": null,
      "grid_auto_columns": null,
      "grid_auto_flow": null,
      "grid_auto_rows": null,
      "grid_column": null,
      "grid_gap": null,
      "grid_row": null,
      "grid_template_areas": null,
      "grid_template_columns": null,
      "grid_template_rows": null,
      "height": null,
      "justify_content": null,
      "justify_items": null,
      "left": null,
      "margin": null,
      "max_height": null,
      "max_width": null,
      "min_height": null,
      "min_width": null,
      "object_fit": null,
      "object_position": null,
      "order": null,
      "overflow": null,
      "overflow_x": null,
      "overflow_y": null,
      "padding": null,
      "right": null,
      "top": null,
      "visibility": null,
      "width": null
     }
    },
    "23cbdf707aae40df8601aa1dc5061a95": {
     "model_module": "@jupyter-widgets/controls",
     "model_module_version": "1.5.0",
     "model_name": "FloatProgressModel",
     "state": {
      "_dom_classes": [],
      "_model_module": "@jupyter-widgets/controls",
      "_model_module_version": "1.5.0",
      "_model_name": "FloatProgressModel",
      "_view_count": null,
      "_view_module": "@jupyter-widgets/controls",
      "_view_module_version": "1.5.0",
      "_view_name": "ProgressView",
      "bar_style": "success",
      "description": "",
      "description_tooltip": null,
      "layout": "IPY_MODEL_acaea1d2db694661931f75b41c278dfd",
      "max": 170498071,
      "min": 0,
      "orientation": "horizontal",
      "style": "IPY_MODEL_523649f530514bf2bb64661c20069314",
      "value": 170498071
     }
    },
    "48d1f67829e84b0984d37d9ceaebd87a": {
     "model_module": "@jupyter-widgets/base",
     "model_module_version": "1.2.0",
     "model_name": "LayoutModel",
     "state": {
      "_model_module": "@jupyter-widgets/base",
      "_model_module_version": "1.2.0",
      "_model_name": "LayoutModel",
      "_view_count": null,
      "_view_module": "@jupyter-widgets/base",
      "_view_module_version": "1.2.0",
      "_view_name": "LayoutView",
      "align_content": null,
      "align_items": null,
      "align_self": null,
      "border": null,
      "bottom": null,
      "display": null,
      "flex": null,
      "flex_flow": null,
      "grid_area": null,
      "grid_auto_columns": null,
      "grid_auto_flow": null,
      "grid_auto_rows": null,
      "grid_column": null,
      "grid_gap": null,
      "grid_row": null,
      "grid_template_areas": null,
      "grid_template_columns": null,
      "grid_template_rows": null,
      "height": null,
      "justify_content": null,
      "justify_items": null,
      "left": null,
      "margin": null,
      "max_height": null,
      "max_width": null,
      "min_height": null,
      "min_width": null,
      "object_fit": null,
      "object_position": null,
      "order": null,
      "overflow": null,
      "overflow_x": null,
      "overflow_y": null,
      "padding": null,
      "right": null,
      "top": null,
      "visibility": null,
      "width": null
     }
    },
    "523649f530514bf2bb64661c20069314": {
     "model_module": "@jupyter-widgets/controls",
     "model_module_version": "1.5.0",
     "model_name": "ProgressStyleModel",
     "state": {
      "_model_module": "@jupyter-widgets/controls",
      "_model_module_version": "1.5.0",
      "_model_name": "ProgressStyleModel",
      "_view_count": null,
      "_view_module": "@jupyter-widgets/base",
      "_view_module_version": "1.2.0",
      "_view_name": "StyleView",
      "bar_color": null,
      "description_width": ""
     }
    },
    "63a2dff9dbfa46d29b8a1c71cb83311d": {
     "model_module": "@jupyter-widgets/controls",
     "model_module_version": "1.5.0",
     "model_name": "FloatProgressModel",
     "state": {
      "_dom_classes": [],
      "_model_module": "@jupyter-widgets/controls",
      "_model_module_version": "1.5.0",
      "_model_name": "FloatProgressModel",
      "_view_count": null,
      "_view_module": "@jupyter-widgets/controls",
      "_view_module_version": "1.5.0",
      "_view_name": "ProgressView",
      "bar_style": "success",
      "description": "",
      "description_tooltip": null,
      "layout": "IPY_MODEL_f667d50ddd6846878fdb4803a8693c8f",
      "max": 108949747,
      "min": 0,
      "orientation": "horizontal",
      "style": "IPY_MODEL_79a47dc9f496485ea4f308dc4b5065d1",
      "value": 108949747
     }
    },
    "79a47dc9f496485ea4f308dc4b5065d1": {
     "model_module": "@jupyter-widgets/controls",
     "model_module_version": "1.5.0",
     "model_name": "ProgressStyleModel",
     "state": {
      "_model_module": "@jupyter-widgets/controls",
      "_model_module_version": "1.5.0",
      "_model_name": "ProgressStyleModel",
      "_view_count": null,
      "_view_module": "@jupyter-widgets/base",
      "_view_module_version": "1.2.0",
      "_view_name": "StyleView",
      "bar_color": null,
      "description_width": ""
     }
    },
    "8ee12dd19647473b8c3e58fc714dc1d5": {
     "model_module": "@jupyter-widgets/controls",
     "model_module_version": "1.5.0",
     "model_name": "DescriptionStyleModel",
     "state": {
      "_model_module": "@jupyter-widgets/controls",
      "_model_module_version": "1.5.0",
      "_model_name": "DescriptionStyleModel",
      "_view_count": null,
      "_view_module": "@jupyter-widgets/base",
      "_view_module_version": "1.2.0",
      "_view_name": "StyleView",
      "description_width": ""
     }
    },
    "9233b5f2d3234de6849182ccbab030d9": {
     "model_module": "@jupyter-widgets/base",
     "model_module_version": "1.2.0",
     "model_name": "LayoutModel",
     "state": {
      "_model_module": "@jupyter-widgets/base",
      "_model_module_version": "1.2.0",
      "_model_name": "LayoutModel",
      "_view_count": null,
      "_view_module": "@jupyter-widgets/base",
      "_view_module_version": "1.2.0",
      "_view_name": "LayoutView",
      "align_content": null,
      "align_items": null,
      "align_self": null,
      "border": null,
      "bottom": null,
      "display": null,
      "flex": null,
      "flex_flow": null,
      "grid_area": null,
      "grid_auto_columns": null,
      "grid_auto_flow": null,
      "grid_auto_rows": null,
      "grid_column": null,
      "grid_gap": null,
      "grid_row": null,
      "grid_template_areas": null,
      "grid_template_columns": null,
      "grid_template_rows": null,
      "height": null,
      "justify_content": null,
      "justify_items": null,
      "left": null,
      "margin": null,
      "max_height": null,
      "max_width": null,
      "min_height": null,
      "min_width": null,
      "object_fit": null,
      "object_position": null,
      "order": null,
      "overflow": null,
      "overflow_x": null,
      "overflow_y": null,
      "padding": null,
      "right": null,
      "top": null,
      "visibility": null,
      "width": null
     }
    },
    "9b33a6ce6c79412bb6e9b6b8ca4e517d": {
     "model_module": "@jupyter-widgets/controls",
     "model_module_version": "1.5.0",
     "model_name": "HTMLModel",
     "state": {
      "_dom_classes": [],
      "_model_module": "@jupyter-widgets/controls",
      "_model_module_version": "1.5.0",
      "_model_name": "HTMLModel",
      "_view_count": null,
      "_view_module": "@jupyter-widgets/controls",
      "_view_module_version": "1.5.0",
      "_view_name": "HTMLView",
      "description": "",
      "description_tooltip": null,
      "layout": "IPY_MODEL_48d1f67829e84b0984d37d9ceaebd87a",
      "placeholder": "​",
      "style": "IPY_MODEL_ff660f96043742ff97a0d461c697da32",
      "value": " 104M/104M [00:02&lt;00:00, 26.2MB/s]"
     }
    },
    "acaea1d2db694661931f75b41c278dfd": {
     "model_module": "@jupyter-widgets/base",
     "model_module_version": "1.2.0",
     "model_name": "LayoutModel",
     "state": {
      "_model_module": "@jupyter-widgets/base",
      "_model_module_version": "1.2.0",
      "_model_name": "LayoutModel",
      "_view_count": null,
      "_view_module": "@jupyter-widgets/base",
      "_view_module_version": "1.2.0",
      "_view_name": "LayoutView",
      "align_content": null,
      "align_items": null,
      "align_self": null,
      "border": null,
      "bottom": null,
      "display": null,
      "flex": null,
      "flex_flow": null,
      "grid_area": null,
      "grid_auto_columns": null,
      "grid_auto_flow": null,
      "grid_auto_rows": null,
      "grid_column": null,
      "grid_gap": null,
      "grid_row": null,
      "grid_template_areas": null,
      "grid_template_columns": null,
      "grid_template_rows": null,
      "height": null,
      "justify_content": null,
      "justify_items": null,
      "left": null,
      "margin": null,
      "max_height": null,
      "max_width": null,
      "min_height": null,
      "min_width": null,
      "object_fit": null,
      "object_position": null,
      "order": null,
      "overflow": null,
      "overflow_x": null,
      "overflow_y": null,
      "padding": null,
      "right": null,
      "top": null,
      "visibility": null,
      "width": null
     }
    },
    "b01c1a0b40124f85aabb59eb5d509b4f": {
     "model_module": "@jupyter-widgets/controls",
     "model_module_version": "1.5.0",
     "model_name": "HTMLModel",
     "state": {
      "_dom_classes": [],
      "_model_module": "@jupyter-widgets/controls",
      "_model_module_version": "1.5.0",
      "_model_name": "HTMLModel",
      "_view_count": null,
      "_view_module": "@jupyter-widgets/controls",
      "_view_module_version": "1.5.0",
      "_view_name": "HTMLView",
      "description": "",
      "description_tooltip": null,
      "layout": "IPY_MODEL_c822dc3636614bc091ef6e94fe73016a",
      "placeholder": "​",
      "style": "IPY_MODEL_0c0cddd6ca4a48fb88f1aadd782102b0",
      "value": "100%"
     }
    },
    "b2f12e5389de4503a619b866c5335262": {
     "model_module": "@jupyter-widgets/controls",
     "model_module_version": "1.5.0",
     "model_name": "HBoxModel",
     "state": {
      "_dom_classes": [],
      "_model_module": "@jupyter-widgets/controls",
      "_model_module_version": "1.5.0",
      "_model_name": "HBoxModel",
      "_view_count": null,
      "_view_module": "@jupyter-widgets/controls",
      "_view_module_version": "1.5.0",
      "_view_name": "HBoxView",
      "box_style": "",
      "children": [
       "IPY_MODEL_d9f987744a0b4e2280e4c1310868e1c6",
       "IPY_MODEL_23cbdf707aae40df8601aa1dc5061a95",
       "IPY_MODEL_c351fab186d040c6a79bc44f838b22de"
      ],
      "layout": "IPY_MODEL_187532ed161741f091aefd4ccd4360f4"
     }
    },
    "b9fbf234c50843979d4116864ed4e67a": {
     "model_module": "@jupyter-widgets/base",
     "model_module_version": "1.2.0",
     "model_name": "LayoutModel",
     "state": {
      "_model_module": "@jupyter-widgets/base",
      "_model_module_version": "1.2.0",
      "_model_name": "LayoutModel",
      "_view_count": null,
      "_view_module": "@jupyter-widgets/base",
      "_view_module_version": "1.2.0",
      "_view_name": "LayoutView",
      "align_content": null,
      "align_items": null,
      "align_self": null,
      "border": null,
      "bottom": null,
      "display": null,
      "flex": null,
      "flex_flow": null,
      "grid_area": null,
      "grid_auto_columns": null,
      "grid_auto_flow": null,
      "grid_auto_rows": null,
      "grid_column": null,
      "grid_gap": null,
      "grid_row": null,
      "grid_template_areas": null,
      "grid_template_columns": null,
      "grid_template_rows": null,
      "height": null,
      "justify_content": null,
      "justify_items": null,
      "left": null,
      "margin": null,
      "max_height": null,
      "max_width": null,
      "min_height": null,
      "min_width": null,
      "object_fit": null,
      "object_position": null,
      "order": null,
      "overflow": null,
      "overflow_x": null,
      "overflow_y": null,
      "padding": null,
      "right": null,
      "top": null,
      "visibility": null,
      "width": null
     }
    },
    "c351fab186d040c6a79bc44f838b22de": {
     "model_module": "@jupyter-widgets/controls",
     "model_module_version": "1.5.0",
     "model_name": "HTMLModel",
     "state": {
      "_dom_classes": [],
      "_model_module": "@jupyter-widgets/controls",
      "_model_module_version": "1.5.0",
      "_model_name": "HTMLModel",
      "_view_count": null,
      "_view_module": "@jupyter-widgets/controls",
      "_view_module_version": "1.5.0",
      "_view_name": "HTMLView",
      "description": "",
      "description_tooltip": null,
      "layout": "IPY_MODEL_b9fbf234c50843979d4116864ed4e67a",
      "placeholder": "​",
      "style": "IPY_MODEL_d1e8b8e6076f4905ae88b5064ce26931",
      "value": " 170499072/? [00:03&lt;00:00, 51084142.67it/s]"
     }
    },
    "c822dc3636614bc091ef6e94fe73016a": {
     "model_module": "@jupyter-widgets/base",
     "model_module_version": "1.2.0",
     "model_name": "LayoutModel",
     "state": {
      "_model_module": "@jupyter-widgets/base",
      "_model_module_version": "1.2.0",
      "_model_name": "LayoutModel",
      "_view_count": null,
      "_view_module": "@jupyter-widgets/base",
      "_view_module_version": "1.2.0",
      "_view_name": "LayoutView",
      "align_content": null,
      "align_items": null,
      "align_self": null,
      "border": null,
      "bottom": null,
      "display": null,
      "flex": null,
      "flex_flow": null,
      "grid_area": null,
      "grid_auto_columns": null,
      "grid_auto_flow": null,
      "grid_auto_rows": null,
      "grid_column": null,
      "grid_gap": null,
      "grid_row": null,
      "grid_template_areas": null,
      "grid_template_columns": null,
      "grid_template_rows": null,
      "height": null,
      "justify_content": null,
      "justify_items": null,
      "left": null,
      "margin": null,
      "max_height": null,
      "max_width": null,
      "min_height": null,
      "min_width": null,
      "object_fit": null,
      "object_position": null,
      "order": null,
      "overflow": null,
      "overflow_x": null,
      "overflow_y": null,
      "padding": null,
      "right": null,
      "top": null,
      "visibility": null,
      "width": null
     }
    },
    "d1e8b8e6076f4905ae88b5064ce26931": {
     "model_module": "@jupyter-widgets/controls",
     "model_module_version": "1.5.0",
     "model_name": "DescriptionStyleModel",
     "state": {
      "_model_module": "@jupyter-widgets/controls",
      "_model_module_version": "1.5.0",
      "_model_name": "DescriptionStyleModel",
      "_view_count": null,
      "_view_module": "@jupyter-widgets/base",
      "_view_module_version": "1.2.0",
      "_view_name": "StyleView",
      "description_width": ""
     }
    },
    "d9f987744a0b4e2280e4c1310868e1c6": {
     "model_module": "@jupyter-widgets/controls",
     "model_module_version": "1.5.0",
     "model_name": "HTMLModel",
     "state": {
      "_dom_classes": [],
      "_model_module": "@jupyter-widgets/controls",
      "_model_module_version": "1.5.0",
      "_model_name": "HTMLModel",
      "_view_count": null,
      "_view_module": "@jupyter-widgets/controls",
      "_view_module_version": "1.5.0",
      "_view_name": "HTMLView",
      "description": "",
      "description_tooltip": null,
      "layout": "IPY_MODEL_194b2f8156fe40a4af5f08874adc2754",
      "placeholder": "​",
      "style": "IPY_MODEL_8ee12dd19647473b8c3e58fc714dc1d5",
      "value": ""
     }
    },
    "dade4f0ac3f14a6895102976278d815b": {
     "model_module": "@jupyter-widgets/controls",
     "model_module_version": "1.5.0",
     "model_name": "HBoxModel",
     "state": {
      "_dom_classes": [],
      "_model_module": "@jupyter-widgets/controls",
      "_model_module_version": "1.5.0",
      "_model_name": "HBoxModel",
      "_view_count": null,
      "_view_module": "@jupyter-widgets/controls",
      "_view_module_version": "1.5.0",
      "_view_name": "HBoxView",
      "box_style": "",
      "children": [
       "IPY_MODEL_b01c1a0b40124f85aabb59eb5d509b4f",
       "IPY_MODEL_63a2dff9dbfa46d29b8a1c71cb83311d",
       "IPY_MODEL_9b33a6ce6c79412bb6e9b6b8ca4e517d"
      ],
      "layout": "IPY_MODEL_9233b5f2d3234de6849182ccbab030d9"
     }
    },
    "f667d50ddd6846878fdb4803a8693c8f": {
     "model_module": "@jupyter-widgets/base",
     "model_module_version": "1.2.0",
     "model_name": "LayoutModel",
     "state": {
      "_model_module": "@jupyter-widgets/base",
      "_model_module_version": "1.2.0",
      "_model_name": "LayoutModel",
      "_view_count": null,
      "_view_module": "@jupyter-widgets/base",
      "_view_module_version": "1.2.0",
      "_view_name": "LayoutView",
      "align_content": null,
      "align_items": null,
      "align_self": null,
      "border": null,
      "bottom": null,
      "display": null,
      "flex": null,
      "flex_flow": null,
      "grid_area": null,
      "grid_auto_columns": null,
      "grid_auto_flow": null,
      "grid_auto_rows": null,
      "grid_column": null,
      "grid_gap": null,
      "grid_row": null,
      "grid_template_areas": null,
      "grid_template_columns": null,
      "grid_template_rows": null,
      "height": null,
      "justify_content": null,
      "justify_items": null,
      "left": null,
      "margin": null,
      "max_height": null,
      "max_width": null,
      "min_height": null,
      "min_width": null,
      "object_fit": null,
      "object_position": null,
      "order": null,
      "overflow": null,
      "overflow_x": null,
      "overflow_y": null,
      "padding": null,
      "right": null,
      "top": null,
      "visibility": null,
      "width": null
     }
    },
    "ff660f96043742ff97a0d461c697da32": {
     "model_module": "@jupyter-widgets/controls",
     "model_module_version": "1.5.0",
     "model_name": "DescriptionStyleModel",
     "state": {
      "_model_module": "@jupyter-widgets/controls",
      "_model_module_version": "1.5.0",
      "_model_name": "DescriptionStyleModel",
      "_view_count": null,
      "_view_module": "@jupyter-widgets/base",
      "_view_module_version": "1.2.0",
      "_view_name": "StyleView",
      "description_width": ""
     }
    }
   }
  }
 },
 "nbformat": 4,
 "nbformat_minor": 4
}
